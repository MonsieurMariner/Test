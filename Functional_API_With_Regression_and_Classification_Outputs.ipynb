{
  "cells": [
    {
      "cell_type": "markdown",
      "metadata": {
        "id": "view-in-github",
        "colab_type": "text"
      },
      "source": [
        "<a href=\"https://colab.research.google.com/github/MonsieurMariner/Test/blob/main/Functional_API_With_Regression_and_Classification_Outputs.ipynb\" target=\"_parent\"><img src=\"https://colab.research.google.com/assets/colab-badge.svg\" alt=\"Open In Colab\"/></a>"
      ]
    },
    {
      "cell_type": "markdown",
      "metadata": {
        "id": "ZL_6GK8qX35J"
      },
      "source": [
        "#Multiple Output Models using the Keras Functional API\n",
        "\n",
        "We will use the Keras functional API to train a model to predict two outputs. For this we will use the **[Wine Quality Dataset](https://archive.ics.uci.edu/ml/datasets/Wine+Quality)** from the **UCI machine learning repository**. It has separate datasets for red wine and white wine.\n",
        "\n",
        "Normally, the wines are classified into one of the quality ratings specified in the attributes. We will combine the two datasets to predict the wine quality and whether the wine is red or white solely from the attributes. \n",
        "\n",
        "We will model wine quality estimations as a regression problem and wine type detection as a binary classification problem.\n",
        "\n"
      ]
    },
    {
      "cell_type": "markdown",
      "metadata": {
        "id": "obdcD6urYBY9"
      },
      "source": [
        "## Imports"
      ]
    },
    {
      "cell_type": "code",
      "source": [
        "from google.colab import drive\n",
        "drive.mount('/content/drive')"
      ],
      "metadata": {
        "colab": {
          "base_uri": "https://localhost:8080/"
        },
        "id": "3gp1EqomJ6y_",
        "outputId": "0a79004a-3cf2-46cd-eb8b-ad153d9e9169"
      },
      "execution_count": null,
      "outputs": [
        {
          "output_type": "stream",
          "name": "stdout",
          "text": [
            "Drive already mounted at /content/drive; to attempt to forcibly remount, call drive.mount(\"/content/drive\", force_remount=True).\n"
          ]
        }
      ]
    },
    {
      "cell_type": "code",
      "execution_count": null,
      "metadata": {
        "id": "t8N3pcTQ5oQI"
      },
      "outputs": [],
      "source": [
        "import tensorflow as tf\n",
        "from tensorflow.keras.models import Model\n",
        "from tensorflow.keras.layers import Dense, Input\n",
        "\n",
        "import numpy as np\n",
        "import matplotlib.pyplot as plt\n",
        "import pandas as pd\n",
        "from sklearn.model_selection import train_test_split\n",
        "from sklearn.metrics import confusion_matrix\n",
        "import itertools"
      ]
    },
    {
      "cell_type": "markdown",
      "metadata": {
        "id": "gQMERzWQYpgm"
      },
      "source": [
        "## Load Dataset\n"
      ]
    },
    {
      "cell_type": "code",
      "execution_count": null,
      "metadata": {
        "deletable": false,
        "id": "2qYAjKXCd4RH",
        "nbgrader": {
          "cell_type": "code",
          "checksum": "325ea195519b7035934c95bb529a062c",
          "grade": false,
          "grade_id": "cell-e5bfa0f152d9a21f",
          "locked": false,
          "schema_version": 3,
          "solution": true,
          "task": false
        }
      },
      "outputs": [],
      "source": [
        "# URL of the white wine dataset\n",
        "URI = '/content/drive/MyDrive/winequality-white.csv'\n",
        "\n",
        "#load the dataset from the URL\n",
        "white_df = pd.read_csv(URI, sep=\";\")\n",
        "\n",
        "# fill the `is_red` column with zeros.\n",
        "white_df[\"is_red\"] = 0\n",
        "\n",
        "# keep only the first of duplicate items\n",
        "white_df = white_df.drop_duplicates(keep='first')\n"
      ]
    },
    {
      "cell_type": "code",
      "execution_count": null,
      "metadata": {
        "deletable": false,
        "id": "8y3QxKwBed8v",
        "nbgrader": {
          "cell_type": "code",
          "checksum": "12e0963d15be33b01b4e6ebc8945e51e",
          "grade": false,
          "grade_id": "cell-e47a40f306593274",
          "locked": false,
          "schema_version": 3,
          "solution": true,
          "task": false
        }
      },
      "outputs": [],
      "source": [
        "# URL of the red wine dataset\n",
        "URI = '/content/drive/MyDrive/winequality-red.csv'\n",
        "\n",
        "# load the dataset from the URL\n",
        "red_df = pd.read_csv(URI, sep=\";\")\n",
        "\n",
        "# fill the `is_red` column with ones.\n",
        "red_df[\"is_red\"] = 1\n",
        "\n",
        "# keep only the first of duplicate items\n",
        "red_df = red_df.drop_duplicates(keep='first')\n"
      ]
    },
    {
      "cell_type": "markdown",
      "metadata": {
        "id": "2G8B-NYuM6-f"
      },
      "source": [
        "### Concatenate the datasets\n",
        "\n",
        "Next, concatenate the red and white wine dataframes."
      ]
    },
    {
      "cell_type": "code",
      "execution_count": null,
      "metadata": {
        "id": "YpQrOjJbfN3m"
      },
      "outputs": [],
      "source": [
        "df = pd.concat([red_df, white_df], ignore_index=True)"
      ]
    },
    {
      "cell_type": "code",
      "execution_count": null,
      "metadata": {
        "id": "wx6y3rPpQv4k"
      },
      "outputs": [],
      "source": [
        "#Randomising and mixing the data in the dataset\n",
        "df = df.iloc[np.random.permutation(len(df))]"
      ]
    },
    {
      "cell_type": "markdown",
      "metadata": {
        "id": "-EqIcbg5M_n1"
      },
      "source": [
        "Charting the quality of the wines."
      ]
    },
    {
      "cell_type": "code",
      "execution_count": null,
      "metadata": {
        "colab": {
          "base_uri": "https://localhost:8080/",
          "height": 265
        },
        "id": "IsvK0-Sgy17C",
        "outputId": "2689b13a-7127-4c48-d2f8-a08b7a3c3b0d"
      },
      "outputs": [
        {
          "output_type": "display_data",
          "data": {
            "text/plain": [
              "<Figure size 432x288 with 1 Axes>"
            ],
            "image/png": "[encoded data removed]"
          },
          "metadata": {
            "needs_background": "light"
          }
        }
      ],
      "source": [
        "df['quality'].hist(bins=20);"
      ]
    },
    {
      "cell_type": "markdown",
      "metadata": {
        "id": "Nut1rmYLzf-p"
      },
      "source": [
        "### Imbalanced data\n",
        "You can see from the plot above that the wine quality dataset is imbalanced. \n",
        "- Since there are very few observations with quality equal to 3, 4, 8 and 9, you can drop these observations from your dataset. \n",
        "- You can do this by removing data belonging to all classes except those > 4 and < 8."
      ]
    },
    {
      "cell_type": "code",
      "execution_count": null,
      "metadata": {
        "deletable": false,
        "id": "doH9_-gnf3sz",
        "nbgrader": {
          "cell_type": "code",
          "checksum": "d9ba9fc3a3ca02ccc567be33652b80fe",
          "grade": false,
          "grade_id": "cell-6a3e9db696f6827b",
          "locked": false,
          "schema_version": 3,
          "solution": true,
          "task": false
        }
      },
      "outputs": [],
      "source": [
        "# get data with wine quality greater than 4 and less than 8\n",
        "df = df[(df['quality'] > 4) & (df['quality'] < 8)]\n",
        "\n",
        "# reset index and drop the old one\n",
        "df = df.reset_index(drop=True)"
      ]
    },
    {
      "cell_type": "markdown",
      "metadata": {
        "id": "cwhuRpnVRTzG"
      },
      "source": [
        "You can plot again to see the new range of data and quality"
      ]
    },
    {
      "cell_type": "code",
      "execution_count": null,
      "metadata": {
        "colab": {
          "base_uri": "https://localhost:8080/",
          "height": 265
        },
        "id": "857ygzZiLgGg",
        "outputId": "31ff08cb-2db9-4340-c4b2-c375489cd97a"
      },
      "outputs": [
        {
          "output_type": "display_data",
          "data": {
            "text/plain": [
              "<Figure size 432x288 with 1 Axes>"
            ],
            "image/png": "[encoded data removed]"
          },
          "metadata": {
            "needs_background": "light"
          }
        }
      ],
      "source": [
        "df['quality'].hist(bins=20);"
      ]
    },
    {
      "cell_type": "markdown",
      "metadata": {
        "id": "n3k0vqSsp84t"
      },
      "source": [
        "### Train Test Split\n",
        "\n",
        "Next, we can split the datasets into training, test and validation datasets.\n",
        "- The data frame should be split 80:20 into `train` and `test` sets.\n",
        "- The resulting `train` should then be split 80:20 into `train` and `val` sets.\n",
        "- The `train_test_split` parameter `test_size` takes a float value that ranges between 0. and 1, and represents the proportion of the dataset that is allocated to the test set.  The rest of the data is allocated to the training set."
      ]
    },
    {
      "cell_type": "code",
      "execution_count": null,
      "metadata": {
        "deletable": false,
        "id": "PAVIf2-fgRVY",
        "nbgrader": {
          "cell_type": "code",
          "checksum": "7f5738f4fb51d65adc9a8acbdf2b9970",
          "grade": false,
          "grade_id": "cell-91946cadf745206b",
          "locked": false,
          "schema_version": 3,
          "solution": true,
          "task": false
        }
      },
      "outputs": [],
      "source": [
        "# split df into 80:20 train and test sets\n",
        "train, test = train_test_split(df, test_size=0.2, random_state = 1)\n",
        "                               \n",
        "# split train into 80:20 train and val sets\n",
        "train, val = train_test_split(train, test_size=0.2, random_state = 1)"
      ]
    },
    {
      "cell_type": "markdown",
      "metadata": {
        "id": "RwTNu4KFqG-K"
      },
      "source": [
        "Here's where we can explore the training stats. We can pop the labels 'is_red' and 'quality' from the data as these will be used as the labels\n"
      ]
    },
    {
      "cell_type": "code",
      "execution_count": null,
      "metadata": {
        "id": "Y_afyhhHM6WQ"
      },
      "outputs": [],
      "source": [
        "train_stats = train.describe()\n",
        "train_stats.pop('is_red')\n",
        "train_stats.pop('quality')\n",
        "train_stats = train_stats.transpose()"
      ]
    },
    {
      "cell_type": "markdown",
      "metadata": {
        "id": "ahvbYm4fNqSt"
      },
      "source": [
        "Explore the training stats!"
      ]
    },
    {
      "cell_type": "code",
      "execution_count": null,
      "metadata": {
        "colab": {
          "base_uri": "https://localhost:8080/",
          "height": 394
        },
        "id": "n_gAtPjZ0otF",
        "outputId": "d894f47e-9187-4bc4-a7e1-2bfddf9c574b"
      },
      "outputs": [
        {
          "output_type": "execute_result",
          "data": {
            "text/plain": [
              "                       count        mean        std      min        25%  \\\n",
              "fixed acidity         3155.0    7.244105   1.343149  3.80000   6.400000   \n",
              "volatile acidity      3155.0    0.340052   0.160575  0.08000   0.230000   \n",
              "citric acid           3155.0    0.321731   0.144390  0.00000   0.250000   \n",
              "residual sugar        3155.0    5.120127   4.612006  0.60000   1.800000   \n",
              "chlorides             3155.0    0.056774   0.036126  0.00900   0.038000   \n",
              "free sulfur dioxide   3155.0   30.244532  17.232281  1.00000  17.000000   \n",
              "total sulfur dioxide  3155.0  114.440095  56.905418  6.00000  75.000000   \n",
              "density               3155.0    0.994605   0.003036  0.98711   0.992225   \n",
              "pH                    3155.0    3.220808   0.157617  2.72000   3.110000   \n",
              "sulphates             3155.0    0.533306   0.147783  0.23000   0.430000   \n",
              "alcohol               3155.0   10.527498   1.173345  8.00000   9.500000   \n",
              "\n",
              "                           50%       75%        max  \n",
              "fixed acidity           7.0000    7.7000   15.60000  \n",
              "volatile acidity        0.2900    0.4000    1.24000  \n",
              "citric acid             0.3100    0.4000    1.23000  \n",
              "residual sugar          2.8000    7.6500   65.80000  \n",
              "chlorides               0.0470    0.0670    0.61100  \n",
              "free sulfur dioxide    28.0000   41.0000  131.00000  \n",
              "total sulfur dioxide  116.0000  155.5000  344.00000  \n",
              "density                 0.9948    0.9968    1.03898  \n",
              "pH                      3.2100    3.3200    4.01000  \n",
              "sulphates               0.5100    0.6000    1.95000  \n",
              "alcohol                10.4000   11.3000   14.05000  "
            ],
            "text/html": [
              "\n",
              "  <div id=\"df-247b6712-2ea6-42fa-b0d6-8a163b340b5e\">\n",
              "    <div class=\"colab-df-container\">\n",
              "      <div>\n",
              "<style scoped>\n",
              "    .dataframe tbody tr th:only-of-type {\n",
              "        vertical-align: middle;\n",
              "    }\n",
              "\n",
              "    .dataframe tbody tr th {\n",
              "        vertical-align: top;\n",
              "    }\n",
              "\n",
              "    .dataframe thead th {\n",
              "        text-align: right;\n",
              "    }\n",
              "</style>\n",
              "<table border=\"1\" class=\"dataframe\">\n",
              "  <thead>\n",
              "    <tr style=\"text-align: right;\">\n",
              "      <th></th>\n",
              "      <th>count</th>\n",
              "      <th>mean</th>\n",
              "      <th>std</th>\n",
              "      <th>min</th>\n",
              "      <th>25%</th>\n",
              "      <th>50%</th>\n",
              "      <th>75%</th>\n",
              "      <th>max</th>\n",
              "    </tr>\n",
              "  </thead>\n",
              "  <tbody>\n",
              "    <tr>\n",
              "      <th>fixed acidity</th>\n",
              "      <td>3155.0</td>\n",
              "      <td>7.244105</td>\n",
              "      <td>1.343149</td>\n",
              "      <td>3.80000</td>\n",
              "      <td>6.400000</td>\n",
              "      <td>7.0000</td>\n",
              "      <td>7.7000</td>\n",
              "      <td>15.60000</td>\n",
              "    </tr>\n",
              "    <tr>\n",
              "      <th>volatile acidity</th>\n",
              "      <td>3155.0</td>\n",
              "      <td>0.340052</td>\n",
              "      <td>0.160575</td>\n",
              "      <td>0.08000</td>\n",
              "      <td>0.230000</td>\n",
              "      <td>0.2900</td>\n",
              "      <td>0.4000</td>\n",
              "      <td>1.24000</td>\n",
              "    </tr>\n",
              "    <tr>\n",
              "      <th>citric acid</th>\n",
              "      <td>3155.0</td>\n",
              "      <td>0.321731</td>\n",
              "      <td>0.144390</td>\n",
              "      <td>0.00000</td>\n",
              "      <td>0.250000</td>\n",
              "      <td>0.3100</td>\n",
              "      <td>0.4000</td>\n",
              "      <td>1.23000</td>\n",
              "    </tr>\n",
              "    <tr>\n",
              "      <th>residual sugar</th>\n",
              "      <td>3155.0</td>\n",
              "      <td>5.120127</td>\n",
              "      <td>4.612006</td>\n",
              "      <td>0.60000</td>\n",
              "      <td>1.800000</td>\n",
              "      <td>2.8000</td>\n",
              "      <td>7.6500</td>\n",
              "      <td>65.80000</td>\n",
              "    </tr>\n",
              "    <tr>\n",
              "      <th>chlorides</th>\n",
              "      <td>3155.0</td>\n",
              "      <td>0.056774</td>\n",
              "      <td>0.036126</td>\n",
              "      <td>0.00900</td>\n",
              "      <td>0.038000</td>\n",
              "      <td>0.0470</td>\n",
              "      <td>0.0670</td>\n",
              "      <td>0.61100</td>\n",
              "    </tr>\n",
              "    <tr>\n",
              "      <th>free sulfur dioxide</th>\n",
              "      <td>3155.0</td>\n",
              "      <td>30.244532</td>\n",
              "      <td>17.232281</td>\n",
              "      <td>1.00000</td>\n",
              "      <td>17.000000</td>\n",
              "      <td>28.0000</td>\n",
              "      <td>41.0000</td>\n",
              "      <td>131.00000</td>\n",
              "    </tr>\n",
              "    <tr>\n",
              "      <th>total sulfur dioxide</th>\n",
              "      <td>3155.0</td>\n",
              "      <td>114.440095</td>\n",
              "      <td>56.905418</td>\n",
              "      <td>6.00000</td>\n",
              "      <td>75.000000</td>\n",
              "      <td>116.0000</td>\n",
              "      <td>155.5000</td>\n",
              "      <td>344.00000</td>\n",
              "    </tr>\n",
              "    <tr>\n",
              "      <th>density</th>\n",
              "      <td>3155.0</td>\n",
              "      <td>0.994605</td>\n",
              "      <td>0.003036</td>\n",
              "      <td>0.98711</td>\n",
              "      <td>0.992225</td>\n",
              "      <td>0.9948</td>\n",
              "      <td>0.9968</td>\n",
              "      <td>1.03898</td>\n",
              "    </tr>\n",
              "    <tr>\n",
              "      <th>pH</th>\n",
              "      <td>3155.0</td>\n",
              "      <td>3.220808</td>\n",
              "      <td>0.157617</td>\n",
              "      <td>2.72000</td>\n",
              "      <td>3.110000</td>\n",
              "      <td>3.2100</td>\n",
              "      <td>3.3200</td>\n",
              "      <td>4.01000</td>\n",
              "    </tr>\n",
              "    <tr>\n",
              "      <th>sulphates</th>\n",
              "      <td>3155.0</td>\n",
              "      <td>0.533306</td>\n",
              "      <td>0.147783</td>\n",
              "      <td>0.23000</td>\n",
              "      <td>0.430000</td>\n",
              "      <td>0.5100</td>\n",
              "      <td>0.6000</td>\n",
              "      <td>1.95000</td>\n",
              "    </tr>\n",
              "    <tr>\n",
              "      <th>alcohol</th>\n",
              "      <td>3155.0</td>\n",
              "      <td>10.527498</td>\n",
              "      <td>1.173345</td>\n",
              "      <td>8.00000</td>\n",
              "      <td>9.500000</td>\n",
              "      <td>10.4000</td>\n",
              "      <td>11.3000</td>\n",
              "      <td>14.05000</td>\n",
              "    </tr>\n",
              "  </tbody>\n",
              "</table>\n",
              "</div>\n",
              "      <button class=\"colab-df-convert\" onclick=\"convertToInteractive('df-247b6712-2ea6-42fa-b0d6-8a163b340b5e')\"\n",
              "              title=\"Convert this dataframe to an interactive table.\"\n",
              "              style=\"display:none;\">\n",
              "        \n",
              "  <svg xmlns=\"http://www.w3.org/2000/svg\" height=\"24px\"viewBox=\"0 0 24 24\"\n",
              "       width=\"24px\">\n",
              "    <path d=\"M0 0h24v24H0V0z\" fill=\"none\"/>\n",
              "    <path d=\"M18.56 5.44l.94 2.06.94-2.06 2.06-.94-2.06-.94-.94-2.06-.94 2.06-2.06.94zm-11 1L8.5 8.5l.94-2.06 2.06-.94-2.06-.94L8.5 2.5l-.94 2.06-2.06.94zm10 10l.94 2.06.94-2.06 2.06-.94-2.06-.94-.94-2.06-.94 2.06-2.06.94z\"/><path d=\"M17.41 7.96l-1.37-1.37c-.4-.4-.92-.59-1.43-.59-.52 0-1.04.2-1.43.59L10.3 9.45l-7.72 7.72c-.78.78-.78 2.05 0 2.83L4 21.41c.39.39.9.59 1.41.59.51 0 1.02-.2 1.41-.59l7.78-7.78 2.81-2.81c.8-.78.8-2.07 0-2.86zM5.41 20L4 18.59l7.72-7.72 1.47 1.35L5.41 20z\"/>\n",
              "  </svg>\n",
              "      </button>\n",
              "      \n",
              "  <style>\n",
              "    .colab-df-container {\n",
              "      display:flex;\n",
              "      flex-wrap:wrap;\n",
              "      gap: 12px;\n",
              "    }\n",
              "\n",
              "    .colab-df-convert {\n",
              "      background-color: #E8F0FE;\n",
              "      border: none;\n",
              "      border-radius: 50%;\n",
              "      cursor: pointer;\n",
              "      display: none;\n",
              "      fill: #1967D2;\n",
              "      height: 32px;\n",
              "      padding: 0 0 0 0;\n",
              "      width: 32px;\n",
              "    }\n",
              "\n",
              "    .colab-df-convert:hover {\n",
              "      background-color: #E2EBFA;\n",
              "      box-shadow: 0px 1px 2px rgba(60, 64, 67, 0.3), 0px 1px 3px 1px rgba(60, 64, 67, 0.15);\n",
              "      fill: #174EA6;\n",
              "    }\n",
              "\n",
              "    [theme=dark] .colab-df-convert {\n",
              "      background-color: #3B4455;\n",
              "      fill: #D2E3FC;\n",
              "    }\n",
              "\n",
              "    [theme=dark] .colab-df-convert:hover {\n",
              "      background-color: #434B5C;\n",
              "      box-shadow: 0px 1px 3px 1px rgba(0, 0, 0, 0.15);\n",
              "      filter: drop-shadow(0px 1px 2px rgba(0, 0, 0, 0.3));\n",
              "      fill: #FFFFFF;\n",
              "    }\n",
              "  </style>\n",
              "\n",
              "      <script>\n",
              "        const buttonEl =\n",
              "          document.querySelector('#df-247b6712-2ea6-42fa-b0d6-8a163b340b5e button.colab-df-convert');\n",
              "        buttonEl.style.display =\n",
              "          google.colab.kernel.accessAllowed ? 'block' : 'none';\n",
              "\n",
              "        async function convertToInteractive(key) {\n",
              "          const element = document.querySelector('#df-247b6712-2ea6-42fa-b0d6-8a163b340b5e');\n",
              "          const dataTable =\n",
              "            await google.colab.kernel.invokeFunction('convertToInteractive',\n",
              "                                                     [key], {});\n",
              "          if (!dataTable) return;\n",
              "\n",
              "          const docLinkHtml = 'Like what you see? Visit the ' +\n",
              "            '<a target=\"_blank\" href=https://colab.research.google.com/notebooks/data_table.ipynb>data table notebook</a>'\n",
              "            + ' to learn more about interactive tables.';\n",
              "          element.innerHTML = '';\n",
              "          dataTable['output_type'] = 'display_data';\n",
              "          await google.colab.output.renderOutput(dataTable, element);\n",
              "          const docLink = document.createElement('div');\n",
              "          docLink.innerHTML = docLinkHtml;\n",
              "          element.appendChild(docLink);\n",
              "        }\n",
              "      </script>\n",
              "    </div>\n",
              "  </div>\n",
              "  "
            ]
          },
          "metadata": {},
          "execution_count": 12
        }
      ],
      "source": [
        "train_stats"
      ]
    },
    {
      "cell_type": "markdown",
      "metadata": {
        "id": "bGPvt9jir_HC"
      },
      "source": [
        "### Get the labels\n",
        "\n",
        "The features and labels are currently in the same dataframe.\n",
        "- You will want to store the label columns `is_red` and `quality` separately from the feature columns.  \n",
        "- The following function, `format_output`, gets these two columns from the dataframe (it's given to you).\n",
        "- `format_output` also formats the data into numpy arrays. \n",
        "- Please use the `format_output` and apply it to the `train`, `val` and `test` sets to get dataframes for the labels."
      ]
    },
    {
      "cell_type": "code",
      "execution_count": null,
      "metadata": {
        "id": "Z_fs14XQqZVP"
      },
      "outputs": [],
      "source": [
        "def format_output(data):\n",
        "    is_red = data.pop('is_red')\n",
        "    is_red = np.array(is_red)\n",
        "    quality = data.pop('quality')\n",
        "    quality = np.array(quality)\n",
        "    return (quality, is_red)"
      ]
    },
    {
      "cell_type": "code",
      "execution_count": null,
      "metadata": {
        "deletable": false,
        "id": "8L3ZZe1fQicm",
        "nbgrader": {
          "cell_type": "code",
          "checksum": "7a86809e54895a816434c48dc903f55d",
          "grade": false,
          "grade_id": "cell-5c30fa2c2a354b0f",
          "locked": false,
          "schema_version": 3,
          "solution": true,
          "task": false
        }
      },
      "outputs": [],
      "source": [
        "# format the output of the train set\n",
        "train_Y = format_output(train)\n",
        "\n",
        "# format the output of the val set\n",
        "val_Y = format_output(val)\n",
        "    \n",
        "# format the output of the test set\n",
        "test_Y = format_output(test)"
      ]
    },
    {
      "cell_type": "code",
      "execution_count": null,
      "metadata": {
        "colab": {
          "base_uri": "https://localhost:8080/",
          "height": 206
        },
        "id": "BpKNiQT9JQs8",
        "outputId": "82e6671e-2d70-414c-b381-44e4c41818f6"
      },
      "outputs": [
        {
          "output_type": "execute_result",
          "data": {
            "text/plain": [
              "      fixed acidity  volatile acidity  citric acid  residual sugar  chlorides  \\\n",
              "225             6.7              0.35         0.32             9.0      0.032   \n",
              "3557            7.2              0.34         0.32             2.5      0.090   \n",
              "3825            6.7              0.25         0.23             7.2      0.038   \n",
              "1740            7.5              0.28         0.78            12.1      0.041   \n",
              "1221            6.1              0.31         0.34             2.8      0.042   \n",
              "\n",
              "      free sulfur dioxide  total sulfur dioxide  density    pH  sulphates  \\\n",
              "225                  29.0                 113.0  0.99188  3.13       0.65   \n",
              "3557                 43.0                 113.0  0.99660  3.32       0.79   \n",
              "3825                 61.0                 220.0  0.99520  3.14       0.35   \n",
              "1740                 53.0                 161.0  0.99838  2.98       0.44   \n",
              "1221                 59.5                 162.0  0.99179  3.27       0.47   \n",
              "\n",
              "      alcohol  \n",
              "225      12.9  \n",
              "3557     11.1  \n",
              "3825      9.5  \n",
              "1740      8.7  \n",
              "1221     10.8  "
            ],
            "text/html": [
              "\n",
              "  <div id=\"df-d6978b92-bf1e-4cab-90a6-f5cf514e0ae9\">\n",
              "    <div class=\"colab-df-container\">\n",
              "      <div>\n",
              "<style scoped>\n",
              "    .dataframe tbody tr th:only-of-type {\n",
              "        vertical-align: middle;\n",
              "    }\n",
              "\n",
              "    .dataframe tbody tr th {\n",
              "        vertical-align: top;\n",
              "    }\n",
              "\n",
              "    .dataframe thead th {\n",
              "        text-align: right;\n",
              "    }\n",
              "</style>\n",
              "<table border=\"1\" class=\"dataframe\">\n",
              "  <thead>\n",
              "    <tr style=\"text-align: right;\">\n",
              "      <th></th>\n",
              "      <th>fixed acidity</th>\n",
              "      <th>volatile acidity</th>\n",
              "      <th>citric acid</th>\n",
              "      <th>residual sugar</th>\n",
              "      <th>chlorides</th>\n",
              "      <th>free sulfur dioxide</th>\n",
              "      <th>total sulfur dioxide</th>\n",
              "      <th>density</th>\n",
              "      <th>pH</th>\n",
              "      <th>sulphates</th>\n",
              "      <th>alcohol</th>\n",
              "    </tr>\n",
              "  </thead>\n",
              "  <tbody>\n",
              "    <tr>\n",
              "      <th>225</th>\n",
              "      <td>6.7</td>\n",
              "      <td>0.35</td>\n",
              "      <td>0.32</td>\n",
              "      <td>9.0</td>\n",
              "      <td>0.032</td>\n",
              "      <td>29.0</td>\n",
              "      <td>113.0</td>\n",
              "      <td>0.99188</td>\n",
              "      <td>3.13</td>\n",
              "      <td>0.65</td>\n",
              "      <td>12.9</td>\n",
              "    </tr>\n",
              "    <tr>\n",
              "      <th>3557</th>\n",
              "      <td>7.2</td>\n",
              "      <td>0.34</td>\n",
              "      <td>0.32</td>\n",
              "      <td>2.5</td>\n",
              "      <td>0.090</td>\n",
              "      <td>43.0</td>\n",
              "      <td>113.0</td>\n",
              "      <td>0.99660</td>\n",
              "      <td>3.32</td>\n",
              "      <td>0.79</td>\n",
              "      <td>11.1</td>\n",
              "    </tr>\n",
              "    <tr>\n",
              "      <th>3825</th>\n",
              "      <td>6.7</td>\n",
              "      <td>0.25</td>\n",
              "      <td>0.23</td>\n",
              "      <td>7.2</td>\n",
              "      <td>0.038</td>\n",
              "      <td>61.0</td>\n",
              "      <td>220.0</td>\n",
              "      <td>0.99520</td>\n",
              "      <td>3.14</td>\n",
              "      <td>0.35</td>\n",
              "      <td>9.5</td>\n",
              "    </tr>\n",
              "    <tr>\n",
              "      <th>1740</th>\n",
              "      <td>7.5</td>\n",
              "      <td>0.28</td>\n",
              "      <td>0.78</td>\n",
              "      <td>12.1</td>\n",
              "      <td>0.041</td>\n",
              "      <td>53.0</td>\n",
              "      <td>161.0</td>\n",
              "      <td>0.99838</td>\n",
              "      <td>2.98</td>\n",
              "      <td>0.44</td>\n",
              "      <td>8.7</td>\n",
              "    </tr>\n",
              "    <tr>\n",
              "      <th>1221</th>\n",
              "      <td>6.1</td>\n",
              "      <td>0.31</td>\n",
              "      <td>0.34</td>\n",
              "      <td>2.8</td>\n",
              "      <td>0.042</td>\n",
              "      <td>59.5</td>\n",
              "      <td>162.0</td>\n",
              "      <td>0.99179</td>\n",
              "      <td>3.27</td>\n",
              "      <td>0.47</td>\n",
              "      <td>10.8</td>\n",
              "    </tr>\n",
              "  </tbody>\n",
              "</table>\n",
              "</div>\n",
              "      <button class=\"colab-df-convert\" onclick=\"convertToInteractive('df-d6978b92-bf1e-4cab-90a6-f5cf514e0ae9')\"\n",
              "              title=\"Convert this dataframe to an interactive table.\"\n",
              "              style=\"display:none;\">\n",
              "        \n",
              "  <svg xmlns=\"http://www.w3.org/2000/svg\" height=\"24px\"viewBox=\"0 0 24 24\"\n",
              "       width=\"24px\">\n",
              "    <path d=\"M0 0h24v24H0V0z\" fill=\"none\"/>\n",
              "    <path d=\"M18.56 5.44l.94 2.06.94-2.06 2.06-.94-2.06-.94-.94-2.06-.94 2.06-2.06.94zm-11 1L8.5 8.5l.94-2.06 2.06-.94-2.06-.94L8.5 2.5l-.94 2.06-2.06.94zm10 10l.94 2.06.94-2.06 2.06-.94-2.06-.94-.94-2.06-.94 2.06-2.06.94z\"/><path d=\"M17.41 7.96l-1.37-1.37c-.4-.4-.92-.59-1.43-.59-.52 0-1.04.2-1.43.59L10.3 9.45l-7.72 7.72c-.78.78-.78 2.05 0 2.83L4 21.41c.39.39.9.59 1.41.59.51 0 1.02-.2 1.41-.59l7.78-7.78 2.81-2.81c.8-.78.8-2.07 0-2.86zM5.41 20L4 18.59l7.72-7.72 1.47 1.35L5.41 20z\"/>\n",
              "  </svg>\n",
              "      </button>\n",
              "      \n",
              "  <style>\n",
              "    .colab-df-container {\n",
              "      display:flex;\n",
              "      flex-wrap:wrap;\n",
              "      gap: 12px;\n",
              "    }\n",
              "\n",
              "    .colab-df-convert {\n",
              "      background-color: #E8F0FE;\n",
              "      border: none;\n",
              "      border-radius: 50%;\n",
              "      cursor: pointer;\n",
              "      display: none;\n",
              "      fill: #1967D2;\n",
              "      height: 32px;\n",
              "      padding: 0 0 0 0;\n",
              "      width: 32px;\n",
              "    }\n",
              "\n",
              "    .colab-df-convert:hover {\n",
              "      background-color: #E2EBFA;\n",
              "      box-shadow: 0px 1px 2px rgba(60, 64, 67, 0.3), 0px 1px 3px 1px rgba(60, 64, 67, 0.15);\n",
              "      fill: #174EA6;\n",
              "    }\n",
              "\n",
              "    [theme=dark] .colab-df-convert {\n",
              "      background-color: #3B4455;\n",
              "      fill: #D2E3FC;\n",
              "    }\n",
              "\n",
              "    [theme=dark] .colab-df-convert:hover {\n",
              "      background-color: #434B5C;\n",
              "      box-shadow: 0px 1px 3px 1px rgba(0, 0, 0, 0.15);\n",
              "      filter: drop-shadow(0px 1px 2px rgba(0, 0, 0, 0.3));\n",
              "      fill: #FFFFFF;\n",
              "    }\n",
              "  </style>\n",
              "\n",
              "      <script>\n",
              "        const buttonEl =\n",
              "          document.querySelector('#df-d6978b92-bf1e-4cab-90a6-f5cf514e0ae9 button.colab-df-convert');\n",
              "        buttonEl.style.display =\n",
              "          google.colab.kernel.accessAllowed ? 'block' : 'none';\n",
              "\n",
              "        async function convertToInteractive(key) {\n",
              "          const element = document.querySelector('#df-d6978b92-bf1e-4cab-90a6-f5cf514e0ae9');\n",
              "          const dataTable =\n",
              "            await google.colab.kernel.invokeFunction('convertToInteractive',\n",
              "                                                     [key], {});\n",
              "          if (!dataTable) return;\n",
              "\n",
              "          const docLinkHtml = 'Like what you see? Visit the ' +\n",
              "            '<a target=\"_blank\" href=https://colab.research.google.com/notebooks/data_table.ipynb>data table notebook</a>'\n",
              "            + ' to learn more about interactive tables.';\n",
              "          element.innerHTML = '';\n",
              "          dataTable['output_type'] = 'display_data';\n",
              "          await google.colab.output.renderOutput(dataTable, element);\n",
              "          const docLink = document.createElement('div');\n",
              "          docLink.innerHTML = docLinkHtml;\n",
              "          element.appendChild(docLink);\n",
              "        }\n",
              "      </script>\n",
              "    </div>\n",
              "  </div>\n",
              "  "
            ]
          },
          "metadata": {},
          "execution_count": 15
        }
      ],
      "source": [
        "train.head()"
      ]
    },
    {
      "cell_type": "markdown",
      "metadata": {
        "id": "hEdbrruAsN1D"
      },
      "source": [
        "### Normalize the data\n",
        "\n",
        "Next, we can normalize the data, x, using the formula:\n",
        "$$x_{norm} = \\frac{x - \\mu}{\\sigma}$$"
      ]
    },
    {
      "cell_type": "code",
      "execution_count": null,
      "metadata": {
        "id": "WWiZPAHCLjUs"
      },
      "outputs": [],
      "source": [
        "def norm(x):\n",
        "    return (x - train_stats['mean']) / train_stats['std']"
      ]
    },
    {
      "cell_type": "code",
      "execution_count": null,
      "metadata": {
        "deletable": false,
        "id": "JEaOi2I2Lk69",
        "nbgrader": {
          "cell_type": "code",
          "checksum": "6bc0cdcb563d192f271067aa3373ff32",
          "grade": false,
          "grade_id": "cell-d8416d975c371095",
          "locked": false,
          "schema_version": 3,
          "solution": true,
          "task": false
        }
      },
      "outputs": [],
      "source": [
        "# normalize the train set\n",
        "norm_train_X = norm(train)\n",
        "    \n",
        "# normalize the val set\n",
        "norm_val_X = norm(val)\n",
        "    \n",
        "# normalize the test set\n",
        "norm_test_X = norm(test)"
      ]
    },
    {
      "cell_type": "markdown",
      "metadata": {
        "id": "hzykDwQhsaPO"
      },
      "source": [
        "## Define the Model\n",
        "\n",
        "Defining the model using the functional API. The base model will be 2 `Dense` layers of 128 neurons each, and have the `'relu'` activation."
      ]
    },
    {
      "cell_type": "code",
      "execution_count": null,
      "metadata": {
        "deletable": false,
        "id": "Rhcns3oTFkM6",
        "nbgrader": {
          "cell_type": "code",
          "checksum": "74b031247e569526552bf13a034a1c07",
          "grade": false,
          "grade_id": "cell-73fceedad1fe351c",
          "locked": false,
          "schema_version": 3,
          "solution": true,
          "task": false
        }
      },
      "outputs": [],
      "source": [
        "def base_model(inputs):\n",
        "    \n",
        "    # connect a Dense layer with 128 neurons and a relu activation\n",
        "    x = Dense(128,activation='relu')(inputs)\n",
        "    \n",
        "    # connect another Dense layer with 128 neurons and a relu activation\n",
        "    x = Dense(128,activation='relu')(x)\n",
        "    return x\n",
        "  "
      ]
    },
    {
      "cell_type": "markdown",
      "metadata": {
        "id": "xem_fcVws6Kz"
      },
      "source": [
        "# Define output layers of the model\n",
        "We will add output layers to the base model. \n",
        "- The model will need two outputs.\n",
        "\n",
        "One output layer will predict wine quality, which is a numeric value.\n",
        "- Define a `Dense` layer with 1 neuron.\n",
        "- Since this is a regression output, the activation can be left as its default value `None`.\n",
        "\n",
        "The other output layer will predict the wine type, which is either red `1` or not red `0` (white).\n",
        "- Define a `Dense` layer with 1 neuron.\n",
        "- Since there are two possible categories, you can use a sigmoid activation for binary classification.\n",
        "\n",
        "Define the `Model`\n",
        "- Define the `Model` object, and set the following parameters:\n",
        "  - `inputs`: pass in the inputs to the model as a list.\n",
        "  - `outputs`: pass in a list of the outputs that you just defined: wine quality, then wine type."
      ]
    },
    {
      "cell_type": "code",
      "execution_count": null,
      "metadata": {
        "deletable": false,
        "id": "n5UGF8PMVLPt",
        "nbgrader": {
          "cell_type": "code",
          "checksum": "76d35b90d20cdcbb22986cd8211057de",
          "grade": false,
          "grade_id": "cell-19e285f482f021fb",
          "locked": false,
          "schema_version": 3,
          "solution": true,
          "task": false
        }
      },
      "outputs": [],
      "source": [
        "def final_model(inputs):\n",
        "    \n",
        "# get the base model\n",
        "    x = base_model(inputs)\n",
        "\n",
        "# connect the output Dense layer for regression\n",
        "    wine_quality = Dense(units='1', name='wine_quality')(x)\n",
        "\n",
        "# connect the output Dense layer for classification. this will use a sigmoid activation.\n",
        "    wine_type = Dense(units='1', activation='sigmoid', name='wine_type')(x)\n",
        "\n",
        "# define the model using the input and output layers\n",
        "    model = Model(inputs=inputs, outputs=[wine_quality,wine_type])\n",
        "\n",
        "    return model"
      ]
    },
    {
      "cell_type": "markdown",
      "metadata": {
        "id": "5R0BMTsltZyu"
      },
      "source": [
        "## Compiling the Model\n",
        "\n",
        "Next, compile the model. When setting the loss parameter of `model.compile`, you're setting the loss for each of the two outputs (wine quality and wine type).\n",
        "\n",
        "To set more than one loss, we use a dictionary of key-value pairs.\n",
        "- We can look at the docs for the losses [here](https://www.tensorflow.org/api_docs/python/tf/keras/losses#functions).\n",
        "\n",
        "- wine_type: Since we will be performing binary classification on wine type, you should use the binary crossentropy loss function for it.\n",
        "\n",
        "- wine_quality: Since this is a regression output, use the mean squared error.\n",
        "\n",
        "\n",
        "We will also set the metric for each of the two outputs.  Again, to set metrics for two or more outputs, use a dictionary with key value pairs.\n",
        "- The metrics documentation is linked [here](https://www.tensorflow.org/api_docs/python/tf/keras/metrics).\n",
        "- For the wine type, we can use accuracy.\n",
        "- For wine quality, we can use  root mean squared error.  "
      ]
    },
    {
      "cell_type": "code",
      "execution_count": null,
      "metadata": {
        "colab": {
          "base_uri": "https://localhost:8080/"
        },
        "deletable": false,
        "id": "LK11duUbUjmh",
        "nbgrader": {
          "cell_type": "code",
          "checksum": "22f45067ca69eb2ccadb43874dbcc27b",
          "grade": false,
          "grade_id": "cell-81afdc4dcca51d5e",
          "locked": false,
          "schema_version": 3,
          "solution": true,
          "task": false
        },
        "outputId": "5e8155d8-5857-40e8-c017-fb73ffbe0ed9"
      },
      "outputs": [
        {
          "output_type": "stream",
          "name": "stderr",
          "text": [
            "WARNING:absl:`lr` is deprecated, please use `learning_rate` instead, or use the legacy optimizer, e.g.,tf.keras.optimizers.legacy.RMSprop.\n"
          ]
        }
      ],
      "source": [
        "inputs = tf.keras.layers.Input(shape=(11,))\n",
        "rms = tf.keras.optimizers.RMSprop(lr=0.0001)\n",
        "model = final_model(inputs)\n",
        "\n",
        "model.compile(optimizer=rms, \n",
        "              loss = {'wine_type' : 'binary_crossentropy',\n",
        "                      'wine_quality' : 'mean_squared_error'\n",
        "                     },\n",
        "              metrics = {'wine_type' : 'accuracy',\n",
        "                         'wine_quality': tf.keras.metrics.RootMeanSquaredError()\n",
        "                       }\n",
        "             )\n"
      ]
    },
    {
      "cell_type": "markdown",
      "metadata": {
        "id": "90MpAMpWuKm-"
      },
      "source": [
        "## Training the Model\n",
        "\n",
        "Fit the model to the training inputs and outputs. \n",
        "- Check the documentation for [model.fit](https://www.tensorflow.org/api_docs/python/tf/keras/Model#fit).\n",
        "- Remember to use the normalized training set as inputs. "
      ]
    },
    {
      "cell_type": "code",
      "execution_count": null,
      "metadata": {
        "colab": {
          "base_uri": "https://localhost:8080/"
        },
        "deletable": false,
        "id": "_eiZkle4XwiY",
        "nbgrader": {
          "cell_type": "code",
          "checksum": "d1a4565296017a0611c6f2de675f96cf",
          "grade": false,
          "grade_id": "cell-0bb56262896f6680",
          "locked": false,
          "schema_version": 3,
          "solution": true,
          "task": false
        },
        "outputId": "df77e3b6-ece7-42a4-e95e-11bcf630a133"
      },
      "outputs": [
        {
          "output_type": "stream",
          "name": "stdout",
          "text": [
            "Epoch 1/40\n",
            "99/99 [==============================] - 4s 18ms/step - loss: 4.4103 - wine_quality_loss: 4.1030 - wine_type_loss: 0.3073 - wine_quality_root_mean_squared_error: 2.0256 - wine_type_accuracy: 0.8824 - val_loss: 1.4901 - val_wine_quality_loss: 1.3635 - val_wine_type_loss: 0.1266 - val_wine_quality_root_mean_squared_error: 1.1677 - val_wine_type_accuracy: 0.9747\n",
            "Epoch 2/40\n",
            "99/99 [==============================] - 1s 7ms/step - loss: 1.0777 - wine_quality_loss: 1.0165 - wine_type_loss: 0.0612 - wine_quality_root_mean_squared_error: 1.0082 - wine_type_accuracy: 0.9914 - val_loss: 0.9539 - val_wine_quality_loss: 0.8812 - val_wine_type_loss: 0.0727 - val_wine_quality_root_mean_squared_error: 0.9387 - val_wine_type_accuracy: 0.9835\n",
            "Epoch 3/40\n",
            "99/99 [==============================] - 1s 6ms/step - loss: 0.7128 - wine_quality_loss: 0.6736 - wine_type_loss: 0.0392 - wine_quality_root_mean_squared_error: 0.8207 - wine_type_accuracy: 0.9933 - val_loss: 0.6483 - val_wine_quality_loss: 0.5836 - val_wine_type_loss: 0.0647 - val_wine_quality_root_mean_squared_error: 0.7640 - val_wine_type_accuracy: 0.9861\n",
            "Epoch 4/40\n",
            "99/99 [==============================] - 1s 7ms/step - loss: 0.5477 - wine_quality_loss: 0.5128 - wine_type_loss: 0.0348 - wine_quality_root_mean_squared_error: 0.7161 - wine_type_accuracy: 0.9933 - val_loss: 0.6673 - val_wine_quality_loss: 0.6022 - val_wine_type_loss: 0.0651 - val_wine_quality_root_mean_squared_error: 0.7760 - val_wine_type_accuracy: 0.9861\n",
            "Epoch 5/40\n",
            "99/99 [==============================] - 1s 6ms/step - loss: 0.4705 - wine_quality_loss: 0.4395 - wine_type_loss: 0.0310 - wine_quality_root_mean_squared_error: 0.6629 - wine_type_accuracy: 0.9933 - val_loss: 0.4812 - val_wine_quality_loss: 0.4194 - val_wine_type_loss: 0.0618 - val_wine_quality_root_mean_squared_error: 0.6476 - val_wine_type_accuracy: 0.9873\n",
            "Epoch 6/40\n",
            "99/99 [==============================] - 1s 6ms/step - loss: 0.4292 - wine_quality_loss: 0.3999 - wine_type_loss: 0.0293 - wine_quality_root_mean_squared_error: 0.6324 - wine_type_accuracy: 0.9937 - val_loss: 0.4976 - val_wine_quality_loss: 0.4366 - val_wine_type_loss: 0.0610 - val_wine_quality_root_mean_squared_error: 0.6607 - val_wine_type_accuracy: 0.9873\n",
            "Epoch 7/40\n",
            "99/99 [==============================] - 1s 7ms/step - loss: 0.4212 - wine_quality_loss: 0.3942 - wine_type_loss: 0.0269 - wine_quality_root_mean_squared_error: 0.6279 - wine_type_accuracy: 0.9943 - val_loss: 0.4568 - val_wine_quality_loss: 0.3940 - val_wine_type_loss: 0.0627 - val_wine_quality_root_mean_squared_error: 0.6277 - val_wine_type_accuracy: 0.9899\n",
            "Epoch 8/40\n",
            "99/99 [==============================] - 1s 13ms/step - loss: 0.4036 - wine_quality_loss: 0.3780 - wine_type_loss: 0.0256 - wine_quality_root_mean_squared_error: 0.6148 - wine_type_accuracy: 0.9943 - val_loss: 0.6473 - val_wine_quality_loss: 0.5923 - val_wine_type_loss: 0.0551 - val_wine_quality_root_mean_squared_error: 0.7696 - val_wine_type_accuracy: 0.9911\n",
            "Epoch 9/40\n",
            "99/99 [==============================] - 1s 12ms/step - loss: 0.3893 - wine_quality_loss: 0.3650 - wine_type_loss: 0.0243 - wine_quality_root_mean_squared_error: 0.6041 - wine_type_accuracy: 0.9952 - val_loss: 0.4886 - val_wine_quality_loss: 0.4338 - val_wine_type_loss: 0.0549 - val_wine_quality_root_mean_squared_error: 0.6586 - val_wine_type_accuracy: 0.9911\n",
            "Epoch 10/40\n",
            "99/99 [==============================] - 1s 10ms/step - loss: 0.3826 - wine_quality_loss: 0.3591 - wine_type_loss: 0.0235 - wine_quality_root_mean_squared_error: 0.5992 - wine_type_accuracy: 0.9949 - val_loss: 0.4512 - val_wine_quality_loss: 0.3990 - val_wine_type_loss: 0.0522 - val_wine_quality_root_mean_squared_error: 0.6317 - val_wine_type_accuracy: 0.9911\n",
            "Epoch 11/40\n",
            "99/99 [==============================] - 1s 10ms/step - loss: 0.3805 - wine_quality_loss: 0.3581 - wine_type_loss: 0.0224 - wine_quality_root_mean_squared_error: 0.5984 - wine_type_accuracy: 0.9959 - val_loss: 0.4989 - val_wine_quality_loss: 0.4469 - val_wine_type_loss: 0.0521 - val_wine_quality_root_mean_squared_error: 0.6685 - val_wine_type_accuracy: 0.9911\n",
            "Epoch 12/40\n",
            "99/99 [==============================] - 1s 9ms/step - loss: 0.3705 - wine_quality_loss: 0.3485 - wine_type_loss: 0.0219 - wine_quality_root_mean_squared_error: 0.5904 - wine_type_accuracy: 0.9956 - val_loss: 0.6348 - val_wine_quality_loss: 0.5851 - val_wine_type_loss: 0.0497 - val_wine_quality_root_mean_squared_error: 0.7649 - val_wine_type_accuracy: 0.9911\n",
            "Epoch 13/40\n",
            "99/99 [==============================] - 1s 9ms/step - loss: 0.3673 - wine_quality_loss: 0.3464 - wine_type_loss: 0.0209 - wine_quality_root_mean_squared_error: 0.5886 - wine_type_accuracy: 0.9962 - val_loss: 0.4601 - val_wine_quality_loss: 0.4074 - val_wine_type_loss: 0.0527 - val_wine_quality_root_mean_squared_error: 0.6383 - val_wine_type_accuracy: 0.9911\n",
            "Epoch 14/40\n",
            "99/99 [==============================] - 1s 10ms/step - loss: 0.3568 - wine_quality_loss: 0.3367 - wine_type_loss: 0.0201 - wine_quality_root_mean_squared_error: 0.5802 - wine_type_accuracy: 0.9962 - val_loss: 0.5696 - val_wine_quality_loss: 0.5238 - val_wine_type_loss: 0.0458 - val_wine_quality_root_mean_squared_error: 0.7238 - val_wine_type_accuracy: 0.9937\n",
            "Epoch 15/40\n",
            "99/99 [==============================] - 1s 9ms/step - loss: 0.3538 - wine_quality_loss: 0.3343 - wine_type_loss: 0.0196 - wine_quality_root_mean_squared_error: 0.5782 - wine_type_accuracy: 0.9959 - val_loss: 0.4864 - val_wine_quality_loss: 0.4407 - val_wine_type_loss: 0.0457 - val_wine_quality_root_mean_squared_error: 0.6639 - val_wine_type_accuracy: 0.9937\n",
            "Epoch 16/40\n",
            "99/99 [==============================] - 0s 3ms/step - loss: 0.3497 - wine_quality_loss: 0.3305 - wine_type_loss: 0.0192 - wine_quality_root_mean_squared_error: 0.5749 - wine_type_accuracy: 0.9959 - val_loss: 0.5119 - val_wine_quality_loss: 0.4636 - val_wine_type_loss: 0.0483 - val_wine_quality_root_mean_squared_error: 0.6809 - val_wine_type_accuracy: 0.9924\n",
            "Epoch 17/40\n",
            "99/99 [==============================] - 0s 3ms/step - loss: 0.3483 - wine_quality_loss: 0.3300 - wine_type_loss: 0.0183 - wine_quality_root_mean_squared_error: 0.5745 - wine_type_accuracy: 0.9965 - val_loss: 0.5671 - val_wine_quality_loss: 0.5224 - val_wine_type_loss: 0.0447 - val_wine_quality_root_mean_squared_error: 0.7228 - val_wine_type_accuracy: 0.9937\n",
            "Epoch 18/40\n",
            "99/99 [==============================] - 0s 3ms/step - loss: 0.3448 - wine_quality_loss: 0.3269 - wine_type_loss: 0.0179 - wine_quality_root_mean_squared_error: 0.5717 - wine_type_accuracy: 0.9968 - val_loss: 0.4199 - val_wine_quality_loss: 0.3767 - val_wine_type_loss: 0.0432 - val_wine_quality_root_mean_squared_error: 0.6138 - val_wine_type_accuracy: 0.9937\n",
            "Epoch 19/40\n",
            "99/99 [==============================] - 0s 3ms/step - loss: 0.3328 - wine_quality_loss: 0.3153 - wine_type_loss: 0.0175 - wine_quality_root_mean_squared_error: 0.5615 - wine_type_accuracy: 0.9971 - val_loss: 0.4227 - val_wine_quality_loss: 0.3773 - val_wine_type_loss: 0.0455 - val_wine_quality_root_mean_squared_error: 0.6142 - val_wine_type_accuracy: 0.9937\n",
            "Epoch 20/40\n",
            "99/99 [==============================] - 0s 3ms/step - loss: 0.3473 - wine_quality_loss: 0.3304 - wine_type_loss: 0.0169 - wine_quality_root_mean_squared_error: 0.5748 - wine_type_accuracy: 0.9971 - val_loss: 0.4089 - val_wine_quality_loss: 0.3660 - val_wine_type_loss: 0.0428 - val_wine_quality_root_mean_squared_error: 0.6050 - val_wine_type_accuracy: 0.9937\n",
            "Epoch 21/40\n",
            "99/99 [==============================] - 0s 3ms/step - loss: 0.3301 - wine_quality_loss: 0.3137 - wine_type_loss: 0.0164 - wine_quality_root_mean_squared_error: 0.5601 - wine_type_accuracy: 0.9968 - val_loss: 0.5978 - val_wine_quality_loss: 0.5527 - val_wine_type_loss: 0.0451 - val_wine_quality_root_mean_squared_error: 0.7434 - val_wine_type_accuracy: 0.9937\n",
            "Epoch 22/40\n",
            "99/99 [==============================] - 0s 3ms/step - loss: 0.3258 - wine_quality_loss: 0.3099 - wine_type_loss: 0.0160 - wine_quality_root_mean_squared_error: 0.5567 - wine_type_accuracy: 0.9971 - val_loss: 0.4088 - val_wine_quality_loss: 0.3668 - val_wine_type_loss: 0.0419 - val_wine_quality_root_mean_squared_error: 0.6056 - val_wine_type_accuracy: 0.9924\n",
            "Epoch 23/40\n",
            "99/99 [==============================] - 0s 3ms/step - loss: 0.3276 - wine_quality_loss: 0.3118 - wine_type_loss: 0.0158 - wine_quality_root_mean_squared_error: 0.5584 - wine_type_accuracy: 0.9971 - val_loss: 0.4366 - val_wine_quality_loss: 0.3968 - val_wine_type_loss: 0.0398 - val_wine_quality_root_mean_squared_error: 0.6299 - val_wine_type_accuracy: 0.9949\n",
            "Epoch 24/40\n",
            "99/99 [==============================] - 0s 3ms/step - loss: 0.3237 - wine_quality_loss: 0.3088 - wine_type_loss: 0.0149 - wine_quality_root_mean_squared_error: 0.5557 - wine_type_accuracy: 0.9968 - val_loss: 0.3865 - val_wine_quality_loss: 0.3471 - val_wine_type_loss: 0.0394 - val_wine_quality_root_mean_squared_error: 0.5891 - val_wine_type_accuracy: 0.9949\n",
            "Epoch 25/40\n",
            "99/99 [==============================] - 0s 3ms/step - loss: 0.3205 - wine_quality_loss: 0.3057 - wine_type_loss: 0.0148 - wine_quality_root_mean_squared_error: 0.5529 - wine_type_accuracy: 0.9971 - val_loss: 0.4522 - val_wine_quality_loss: 0.4127 - val_wine_type_loss: 0.0395 - val_wine_quality_root_mean_squared_error: 0.6424 - val_wine_type_accuracy: 0.9949\n",
            "Epoch 26/40\n",
            "99/99 [==============================] - 0s 3ms/step - loss: 0.3145 - wine_quality_loss: 0.3002 - wine_type_loss: 0.0143 - wine_quality_root_mean_squared_error: 0.5479 - wine_type_accuracy: 0.9968 - val_loss: 0.4647 - val_wine_quality_loss: 0.4239 - val_wine_type_loss: 0.0407 - val_wine_quality_root_mean_squared_error: 0.6511 - val_wine_type_accuracy: 0.9937\n",
            "Epoch 27/40\n",
            "99/99 [==============================] - 0s 3ms/step - loss: 0.3140 - wine_quality_loss: 0.3001 - wine_type_loss: 0.0139 - wine_quality_root_mean_squared_error: 0.5478 - wine_type_accuracy: 0.9975 - val_loss: 0.3921 - val_wine_quality_loss: 0.3538 - val_wine_type_loss: 0.0383 - val_wine_quality_root_mean_squared_error: 0.5948 - val_wine_type_accuracy: 0.9949\n",
            "Epoch 28/40\n",
            "99/99 [==============================] - 0s 3ms/step - loss: 0.3141 - wine_quality_loss: 0.3004 - wine_type_loss: 0.0138 - wine_quality_root_mean_squared_error: 0.5480 - wine_type_accuracy: 0.9971 - val_loss: 0.4381 - val_wine_quality_loss: 0.3977 - val_wine_type_loss: 0.0404 - val_wine_quality_root_mean_squared_error: 0.6306 - val_wine_type_accuracy: 0.9937\n",
            "Epoch 29/40\n",
            "99/99 [==============================] - 0s 3ms/step - loss: 0.3037 - wine_quality_loss: 0.2906 - wine_type_loss: 0.0130 - wine_quality_root_mean_squared_error: 0.5391 - wine_type_accuracy: 0.9981 - val_loss: 0.4386 - val_wine_quality_loss: 0.3988 - val_wine_type_loss: 0.0398 - val_wine_quality_root_mean_squared_error: 0.6315 - val_wine_type_accuracy: 0.9937\n",
            "Epoch 30/40\n",
            "99/99 [==============================] - 0s 3ms/step - loss: 0.3107 - wine_quality_loss: 0.2979 - wine_type_loss: 0.0127 - wine_quality_root_mean_squared_error: 0.5458 - wine_type_accuracy: 0.9981 - val_loss: 0.3997 - val_wine_quality_loss: 0.3597 - val_wine_type_loss: 0.0399 - val_wine_quality_root_mean_squared_error: 0.5998 - val_wine_type_accuracy: 0.9937\n",
            "Epoch 31/40\n",
            "99/99 [==============================] - 0s 4ms/step - loss: 0.3020 - wine_quality_loss: 0.2892 - wine_type_loss: 0.0128 - wine_quality_root_mean_squared_error: 0.5378 - wine_type_accuracy: 0.9981 - val_loss: 0.4543 - val_wine_quality_loss: 0.4166 - val_wine_type_loss: 0.0377 - val_wine_quality_root_mean_squared_error: 0.6454 - val_wine_type_accuracy: 0.9949\n",
            "Epoch 32/40\n",
            "99/99 [==============================] - 0s 5ms/step - loss: 0.3021 - wine_quality_loss: 0.2900 - wine_type_loss: 0.0122 - wine_quality_root_mean_squared_error: 0.5385 - wine_type_accuracy: 0.9981 - val_loss: 0.4466 - val_wine_quality_loss: 0.4090 - val_wine_type_loss: 0.0376 - val_wine_quality_root_mean_squared_error: 0.6395 - val_wine_type_accuracy: 0.9949\n",
            "Epoch 33/40\n",
            "99/99 [==============================] - 0s 3ms/step - loss: 0.2997 - wine_quality_loss: 0.2878 - wine_type_loss: 0.0119 - wine_quality_root_mean_squared_error: 0.5364 - wine_type_accuracy: 0.9975 - val_loss: 0.4144 - val_wine_quality_loss: 0.3760 - val_wine_type_loss: 0.0384 - val_wine_quality_root_mean_squared_error: 0.6131 - val_wine_type_accuracy: 0.9949\n",
            "Epoch 34/40\n",
            "99/99 [==============================] - 0s 4ms/step - loss: 0.2994 - wine_quality_loss: 0.2879 - wine_type_loss: 0.0115 - wine_quality_root_mean_squared_error: 0.5365 - wine_type_accuracy: 0.9981 - val_loss: 0.3873 - val_wine_quality_loss: 0.3521 - val_wine_type_loss: 0.0353 - val_wine_quality_root_mean_squared_error: 0.5934 - val_wine_type_accuracy: 0.9949\n",
            "Epoch 35/40\n",
            "99/99 [==============================] - 0s 5ms/step - loss: 0.2933 - wine_quality_loss: 0.2816 - wine_type_loss: 0.0117 - wine_quality_root_mean_squared_error: 0.5307 - wine_type_accuracy: 0.9978 - val_loss: 0.4004 - val_wine_quality_loss: 0.3641 - val_wine_type_loss: 0.0363 - val_wine_quality_root_mean_squared_error: 0.6034 - val_wine_type_accuracy: 0.9949\n",
            "Epoch 36/40\n",
            "99/99 [==============================] - 1s 5ms/step - loss: 0.2909 - wine_quality_loss: 0.2797 - wine_type_loss: 0.0112 - wine_quality_root_mean_squared_error: 0.5288 - wine_type_accuracy: 0.9981 - val_loss: 0.4035 - val_wine_quality_loss: 0.3676 - val_wine_type_loss: 0.0359 - val_wine_quality_root_mean_squared_error: 0.6063 - val_wine_type_accuracy: 0.9949\n",
            "Epoch 37/40\n",
            "99/99 [==============================] - 0s 5ms/step - loss: 0.2902 - wine_quality_loss: 0.2793 - wine_type_loss: 0.0109 - wine_quality_root_mean_squared_error: 0.5285 - wine_type_accuracy: 0.9981 - val_loss: 0.4106 - val_wine_quality_loss: 0.3753 - val_wine_type_loss: 0.0352 - val_wine_quality_root_mean_squared_error: 0.6127 - val_wine_type_accuracy: 0.9949\n",
            "Epoch 38/40\n",
            "99/99 [==============================] - 0s 3ms/step - loss: 0.2955 - wine_quality_loss: 0.2848 - wine_type_loss: 0.0106 - wine_quality_root_mean_squared_error: 0.5337 - wine_type_accuracy: 0.9981 - val_loss: 0.3859 - val_wine_quality_loss: 0.3478 - val_wine_type_loss: 0.0381 - val_wine_quality_root_mean_squared_error: 0.5898 - val_wine_type_accuracy: 0.9937\n",
            "Epoch 39/40\n",
            "99/99 [==============================] - 0s 3ms/step - loss: 0.2803 - wine_quality_loss: 0.2698 - wine_type_loss: 0.0105 - wine_quality_root_mean_squared_error: 0.5194 - wine_type_accuracy: 0.9981 - val_loss: 0.5217 - val_wine_quality_loss: 0.4874 - val_wine_type_loss: 0.0344 - val_wine_quality_root_mean_squared_error: 0.6981 - val_wine_type_accuracy: 0.9949\n",
            "Epoch 40/40\n",
            "99/99 [==============================] - 0s 3ms/step - loss: 0.2911 - wine_quality_loss: 0.2809 - wine_type_loss: 0.0102 - wine_quality_root_mean_squared_error: 0.5300 - wine_type_accuracy: 0.9978 - val_loss: 0.4226 - val_wine_quality_loss: 0.3823 - val_wine_type_loss: 0.0403 - val_wine_quality_root_mean_squared_error: 0.6183 - val_wine_type_accuracy: 0.9937\n"
          ]
        }
      ],
      "source": [
        "history = model.fit(norm_train_X, train_Y,\n",
        "                    epochs = 40, validation_data=(norm_val_X, val_Y))"
      ]
    },
    {
      "cell_type": "code",
      "execution_count": null,
      "metadata": {
        "colab": {
          "base_uri": "https://localhost:8080/"
        },
        "id": "CubF2J2gSf6q",
        "outputId": "54368230-384e-4fd4-d4bb-6e0c8c7c0489"
      },
      "outputs": [
        {
          "output_type": "stream",
          "name": "stdout",
          "text": [
            "25/25 [==============================] - 0s 3ms/step - loss: 0.4226 - wine_quality_loss: 0.3823 - wine_type_loss: 0.0403 - wine_quality_root_mean_squared_error: 0.6183 - wine_type_accuracy: 0.9937\n",
            "\n",
            "loss: 0.42262107133865356\n",
            "wine_quality_loss: 0.3823471665382385\n",
            "wine_type_loss: 0.04027398303151131\n",
            "wine_quality_rmse: 0.6183422803878784\n",
            "wine_type_accuracy: 0.9936628937721252\n"
          ]
        }
      ],
      "source": [
        "# Gather the training metrics\n",
        "loss, wine_quality_loss, wine_type_loss, wine_quality_rmse, wine_type_accuracy = model.evaluate(x=norm_val_X, y=val_Y)\n",
        "\n",
        "print()\n",
        "print(f'loss: {loss}')\n",
        "print(f'wine_quality_loss: {wine_quality_loss}')\n",
        "print(f'wine_type_loss: {wine_type_loss}')\n",
        "print(f'wine_quality_rmse: {wine_quality_rmse}')\n",
        "print(f'wine_type_accuracy: {wine_type_accuracy}')\n"
      ]
    },
    {
      "cell_type": "markdown",
      "metadata": {
        "id": "gPtTGAP4usnm"
      },
      "source": [
        "## Analyze the Model Performance\n",
        "\n",
        "Note that the model has two outputs. The output at index 0 is quality and index 1 is wine type\n",
        "\n",
        "So, round the quality predictions to the nearest integer."
      ]
    },
    {
      "cell_type": "code",
      "execution_count": null,
      "metadata": {
        "colab": {
          "base_uri": "https://localhost:8080/"
        },
        "id": "tBq9PEeAaW-Y",
        "outputId": "da71922a-da9d-4206-f773-f2855d179a04"
      },
      "outputs": [
        {
          "output_type": "stream",
          "name": "stdout",
          "text": [
            "31/31 [==============================] - 0s 1ms/step\n"
          ]
        }
      ],
      "source": [
        "predictions = model.predict(norm_test_X)\n",
        "quality_pred = predictions[0]\n",
        "type_pred = predictions[1]"
      ]
    },
    {
      "cell_type": "code",
      "execution_count": null,
      "metadata": {
        "colab": {
          "base_uri": "https://localhost:8080/"
        },
        "id": "YLhgTR4xTIxj",
        "outputId": "d35863bc-834e-4dfa-b3ef-a8228354a3e7"
      },
      "outputs": [
        {
          "output_type": "stream",
          "name": "stdout",
          "text": [
            "[6.3174944]\n"
          ]
        }
      ],
      "source": [
        "print(quality_pred[0])"
      ]
    },
    {
      "cell_type": "markdown",
      "metadata": {
        "id": "Kohk-9C6vt_s"
      },
      "source": [
        "### Plot Utilities\n",
        "\n",
        "We define a few utilities to visualize the model performance."
      ]
    },
    {
      "cell_type": "code",
      "execution_count": null,
      "metadata": {
        "id": "62gEOFUhn6aQ"
      },
      "outputs": [],
      "source": [
        "def plot_metrics(metric_name, title, ylim=5):\n",
        "    plt.title(title)\n",
        "    plt.ylim(0,ylim)\n",
        "    plt.plot(history.history[metric_name],color='blue',label=metric_name)\n",
        "    plt.plot(history.history['val_' + metric_name],color='green',label='val_' + metric_name)\n"
      ]
    },
    {
      "cell_type": "code",
      "execution_count": null,
      "metadata": {
        "id": "6rfgSx7uz5dj"
      },
      "outputs": [],
      "source": [
        "def plot_confusion_matrix(y_true, y_pred, title='', labels=[0,1]):\n",
        "    cm = confusion_matrix(y_true, y_pred)\n",
        "    fig = plt.figure()\n",
        "    ax = fig.add_subplot(111)\n",
        "    cax = ax.matshow(cm)\n",
        "    plt.title('Confusion matrix of the classifier')\n",
        "    fig.colorbar(cax)\n",
        "    ax.set_xticklabels([''] + labels)\n",
        "    ax.set_yticklabels([''] + labels)\n",
        "    plt.xlabel('Predicted')\n",
        "    plt.ylabel('True')\n",
        "    fmt = 'd'\n",
        "    thresh = cm.max() / 2.\n",
        "    for i, j in itertools.product(range(cm.shape[0]), range(cm.shape[1])):\n",
        "          plt.text(j, i, format(cm[i, j], fmt),\n",
        "                  horizontalalignment=\"center\",\n",
        "                  color=\"black\" if cm[i, j] > thresh else \"white\")\n",
        "    plt.show()"
      ]
    },
    {
      "cell_type": "code",
      "execution_count": null,
      "metadata": {
        "id": "dfVLIqi017Vf"
      },
      "outputs": [],
      "source": [
        "def plot_diff(y_true, y_pred, title = '' ):\n",
        "    plt.scatter(y_true, y_pred)\n",
        "    plt.title(title)\n",
        "    plt.xlabel('True Values')\n",
        "    plt.ylabel('Predictions')\n",
        "    plt.axis('equal')\n",
        "    plt.axis('square')\n",
        "    plt.plot([-100, 100], [-100, 100])\n",
        "    return plt"
      ]
    },
    {
      "cell_type": "markdown",
      "metadata": {
        "id": "8sd1jdFbwE0I"
      },
      "source": [
        "### Plots for Metrics"
      ]
    },
    {
      "cell_type": "code",
      "execution_count": null,
      "metadata": {
        "colab": {
          "base_uri": "https://localhost:8080/",
          "height": 281
        },
        "id": "f3MwZ5J1pOfj",
        "outputId": "89d4adc5-2f79-4aaa-b58c-2e3a9cad9b6c"
      },
      "outputs": [
        {
          "output_type": "display_data",
          "data": {
            "text/plain": [
              "<Figure size 432x288 with 1 Axes>"
            ],
            "image/png": "[encoded data removed]"
          },
          "metadata": {
            "needs_background": "light"
          }
        }
      ],
      "source": [
        "plot_metrics('wine_quality_root_mean_squared_error', 'RMSE', ylim=2)"
      ]
    },
    {
      "cell_type": "code",
      "execution_count": null,
      "metadata": {
        "colab": {
          "base_uri": "https://localhost:8080/",
          "height": 281
        },
        "id": "QIAxEezCppnd",
        "outputId": "33b49d80-62b4-4986-e9db-129846f18e2d"
      },
      "outputs": [
        {
          "output_type": "display_data",
          "data": {
            "text/plain": [
              "<Figure size 432x288 with 1 Axes>"
            ],
            "image/png": "[encoded data removed]"
          },
          "metadata": {
            "needs_background": "light"
          }
        }
      ],
      "source": [
        "plot_metrics('wine_type_loss', 'Wine Type Loss', ylim=0.2)"
      ]
    },
    {
      "cell_type": "markdown",
      "metadata": {
        "id": "uYV9AOAMwI9p"
      },
      "source": [
        "### Plots for Confusion Matrix\n",
        "\n",
        "Plotting the confusion matrices for wine type. WE can see that the model performs well for prediction of wine type from the confusion matrix and the loss metrics."
      ]
    },
    {
      "cell_type": "code",
      "execution_count": null,
      "metadata": {
        "colab": {
          "base_uri": "https://localhost:8080/",
          "height": 368
        },
        "id": "C3hvTYxIaf3n",
        "outputId": "e68f39a1-363e-440b-9668-6a0ca83b5135"
      },
      "outputs": [
        {
          "output_type": "stream",
          "name": "stderr",
          "text": [
            "<ipython-input-26-47bb6e202cb0>:8: UserWarning: FixedFormatter should only be used together with FixedLocator\n",
            "  ax.set_xticklabels([''] + labels)\n",
            "<ipython-input-26-47bb6e202cb0>:9: UserWarning: FixedFormatter should only be used together with FixedLocator\n",
            "  ax.set_yticklabels([''] + labels)\n"
          ]
        },
        {
          "output_type": "display_data",
          "data": {
            "text/plain": [
              "<Figure size 432x288 with 2 Axes>"
            ],
            "image/png": "[encoded data removed]"
          },
          "metadata": {
            "needs_background": "light"
          }
        }
      ],
      "source": [
        "plot_confusion_matrix(test_Y[1], np.round(type_pred), title='Wine Type', labels = [0, 1])"
      ]
    },
    {
      "cell_type": "code",
      "execution_count": null,
      "metadata": {
        "colab": {
          "base_uri": "https://localhost:8080/",
          "height": 295
        },
        "id": "GW91ym8P2I5y",
        "outputId": "1e1b52a3-ad28-4b8a-b8f7-4b4a2ba8433c"
      },
      "outputs": [
        {
          "output_type": "display_data",
          "data": {
            "text/plain": [
              "<Figure size 432x288 with 1 Axes>"
            ],
            "image/png": "[encoded data removed]"
          },
          "metadata": {
            "needs_background": "light"
          }
        }
      ],
      "source": [
        "scatter_plot = plot_diff(test_Y[0], quality_pred, title='Type')"
      ]
    }
  ],
  "metadata": {
    "colab": {
      "provenance": [],
      "include_colab_link": true
    },
    "kernelspec": {
      "display_name": "Python 3",
      "language": "python",
      "name": "python3"
    },
    "language_info": {
      "codemirror_mode": {
        "name": "ipython",
        "version": 3
      },
      "file_extension": ".py",
      "mimetype": "text/x-python",
      "name": "python",
      "nbconvert_exporter": "python",
      "pygments_lexer": "ipython3",
      "version": "3.7.6"
    }
  },
  "nbformat": 4,
  "nbformat_minor": 0
}